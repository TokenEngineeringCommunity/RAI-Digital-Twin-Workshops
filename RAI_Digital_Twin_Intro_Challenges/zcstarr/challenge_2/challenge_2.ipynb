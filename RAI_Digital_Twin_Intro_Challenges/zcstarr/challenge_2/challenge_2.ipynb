{
 "cells": [
  {
   "cell_type": "markdown",
   "metadata": {},
   "source": [
    "\n",
    "## Zcstarr Challenge2"
   ]
  },
  {
   "cell_type": "code",
   "execution_count": null,
   "metadata": {},
   "outputs": [],
   "source": [
    "%load_ext autotime\n",
    "%load_ext autoreload\n",
    "%autoreload 2\n",
    "%matplotlib inline\n",
    "import matplotlib.pyplot as plt\n",
    "import sys\n",
    "sys.path.append('./')"
   ]
  },
  {
   "cell_type": "code",
   "execution_count": null,
   "metadata": {},
   "outputs": [],
   "source": [
    "from cadCAD_tools import easy_run\n",
    "from rai_digital_twin import default_model\n",
    "import pandas as pd\n",
    "backtest_df = pd.read_csv('./data/runs/2021-11-11 06:35:34.433304-backtesting.csv.gz',compression='gzip')\n",
    "extrapolation_df = pd.read_csv('./data/runs/2021-11-11 06:58:57.828631-extrapolation.csv.gz',compression='gzip')"
   ]
  },
  {
   "cell_type": "code",
   "execution_count": null,
   "metadata": {},
   "outputs": [],
   "source": [
    "extrapolation_df.redemption_price.mean()\n",
    "extrapolation_df"
   ]
  },
  {
   "cell_type": "code",
   "execution_count": null,
   "metadata": {},
   "outputs": [],
   "source": [
    "def plot(x, y, ax, title, y_label):\n",
    "    ax.set_title(title)\n",
    "    ax.set_ylabel(y_label)\n",
    "    ax.plot(x, y)\n",
    "    ax.margins(x=0, y=0)"
   ]
  },
  {
   "cell_type": "code",
   "execution_count": null,
   "metadata": {},
   "outputs": [],
   "source": [
    "fig, (ax1, ax2) = plt.subplots(ncols=2)\n",
    "fig.set_size_inches(14, 4)\n",
    "fig.tight_layout()\n",
    "plot(backtest_df.seconds_passed.index, backtest_df.eth_price, ax1, 'eth prices vs steps passed', 'eth_price')\n",
    "plot(backtest_df.seconds_passed.index, backtest_df.market_price, ax2, 'market prices vs steps passed', 'market_price')"
   ]
  },
  {
   "cell_type": "code",
   "execution_count": null,
   "metadata": {},
   "outputs": [],
   "source": [
    "fig, (ax1, ax2) = plt.subplots(ncols=2)\n",
    "fig.set_size_inches(14, 4)\n",
    "fig.tight_layout()\n",
    "plot(extrapolation_df.index, extrapolation_df.redemption_price, ax1, 'redemption price vs steps passed', 'redemption_price')\n",
    "plot(extrapolation_df.index, extrapolation_df.redemption_rate, ax2, 'redemption rate vs steps passed', 'redemption_rate')"
   ]
  },
  {
   "cell_type": "code",
   "execution_count": null,
   "metadata": {},
   "outputs": [],
   "source": []
  }
 ],
 "metadata": {
  "interpreter": {
   "hash": "2bdaea6640486b624389cc9e16bd13502827ec1b15e97d02d99609fdd5e0b932"
  },
  "kernelspec": {
   "display_name": "Python 3 (ipykernel)",
   "language": "python",
   "name": "python3"
  },
  "language_info": {
   "codemirror_mode": {
    "name": "ipython",
    "version": 3
   },
   "file_extension": ".py",
   "mimetype": "text/x-python",
   "name": "python",
   "nbconvert_exporter": "python",
   "pygments_lexer": "ipython3",
   "version": "3.9.1"
  }
 },
 "nbformat": 4,
 "nbformat_minor": 2
}
